{
 "cells": [
  {
   "cell_type": "markdown",
   "id": "25debd2a",
   "metadata": {},
   "source": [
    "#selenium & chromebrower설치   \n",
    "##1.selenium설치   \n",
    "###-conda install selenium  #아나콘다를 이용하여 파이썬을 설치하셨을 경우   \n",
    "###-pip install selenium  #아나콘다 미설치 이거나 위 방법이 되지 않을 경우   \n",
    "\n",
    "##2.chromebrower설치   \n",
    "###-URL : https://chromedriver.chromium.org/downloads   \n",
    "###-Chrom의 버전을 확인 후 맞는걸로 설치   "
   ]
  },
  {
   "cell_type": "code",
   "execution_count": 1,
   "id": "789b2fc8",
   "metadata": {},
   "outputs": [],
   "source": [
    "from selenium import webdriver\n",
    "from selenium.webdriver.common.keys import Keys\n",
    "from selenium.webdriver.common.by import By\n",
    "\n",
    "driver = webdriver.Chrome()     \n",
    "#Chromedriver을 사용하기 때문에 Chrom으로 변경\n",
    "\n",
    "driver.get(\"https://www.google.co.kr/imghp?hl=ko&ogbl\")   \n",
    "#get메소드는 URL이 제공하는 페이지로 이동."
   ]
  },
  {
   "cell_type": "code",
   "execution_count": 2,
   "id": "921f34fd",
   "metadata": {},
   "outputs": [],
   "source": [
    "elem = driver.find_element(By.NAME,\"q\")\n",
    "#selenium이 업데이트되면서 find_element_by_*** 문법이 사라짐.\n",
    "\n",
    "elem.send_keys(\"주식\")    \n",
    "#검색할 단어쓰기\n",
    "\n",
    "elem.send_keys(Keys.RETURN)  \n",
    "#RETURN이 엔터 역할"
   ]
  },
  {
   "cell_type": "code",
   "execution_count": null,
   "id": "1462a282",
   "metadata": {},
   "outputs": [],
   "source": [
    "import time   #많은 데이터를 가져오기 때문에 검색 후 2초의 시간을 준다.\n",
    "import urllib.request   #url을 사용해서 이미지 다운받기\n",
    "\n",
    "#검색 후 바로 나오는 사진 다운받는법 \n",
    "#imgurl = driver.find_elements(By.CSS_SELECTOR,\".rg_i.Q4LuWd\")[0].get_attribute('src')\n",
    "\n",
    "#단어로 검색 후에 스크롤을 모두 내린 상태만들기\n",
    "SCROLL_PAUSE_TIME = 1\n",
    "# 스크롤의 높이를 구해서 last_height에 저장\n",
    "last_height = driver.execute_script(\"return document.body.scrollHeight\")\n",
    "\n",
    "while True:\n",
    "    # 브라우저 스크롤을 끝까지 내린다는 뜻\n",
    "    driver.execute_script(\"window.scrollTo(0, document.body.scrollHeight);\")\n",
    "    # 로딩 시간 1초\n",
    "    time.sleep(SCROLL_PAUSE_TIME)\n",
    "    # 스크롤을 끝까지 내리고 나서의 높이를 구해서 new_height에 저장\n",
    "    new_height = driver.execute_script(\"return document.body.scrollHeight\")\n",
    "    if new_height == last_height:\n",
    "        #스크롤을 끝까지 내리고 나서 더이상 내릴게 없으면 \n",
    "        try:\n",
    "            driver.find_element(By.CSS_SELECTOR,\".mye4qd\").click()\n",
    "        except:\n",
    "            break\n",
    "    last_height = new_height\n",
    "    \n",
    "\n",
    "#이미지를 클릭 후 다운받는 법\n",
    "images = driver.find_elements(By.CSS_SELECTOR,\".rg_i.Q4LuWd\")\n",
    "    \n",
    "count=1\n",
    "for image in images:\n",
    "    try:\n",
    "        image.click()\n",
    "        time.sleep(3)  #사진 클릭 후 2초정도 후에 다운받도록\n",
    "        imgurl = driver.find_element(By.XPATH,\"/html/body/div[2]/c-wiz/div[3]/div[3]/div[3]/div/div/div[3]/div[2]/c-wiz/div/div[1]/div[1]/div[3]/div/a/img\").get_attribute('src')\n",
    "        #클래스의 이름을 넣어서 해당 그림의src주소 가져오기\n",
    "        urllib.request.urlretrieve(imgurl,str(count)+'test.jpg')\n",
    "        count+=1\n",
    "    except:\n",
    "        pass\n",
    "\n",
    "driver.close()\n"
   ]
  },
  {
   "cell_type": "markdown",
   "id": "eddd0b6d",
   "metadata": {},
   "source": [
    "####find_element_by, find_elements_by 차이점은?   \n",
    "####-element 는 조건에 일치하는 가장 첫번째 요소를 반환   \n",
    "####-elements는 조건에 일치하는 모든 요소를 list 형태로 반환   \n",
    "####즉, 한개만 return하냐, 모든 요소를 return 하냐의 차이다.   "
   ]
  },
  {
   "cell_type": "code",
   "execution_count": null,
   "id": "bd07465d",
   "metadata": {},
   "outputs": [],
   "source": []
  }
 ],
 "metadata": {
  "kernelspec": {
   "display_name": "Python 3",
   "language": "python",
   "name": "python3"
  },
  "language_info": {
   "codemirror_mode": {
    "name": "ipython",
    "version": 3
   },
   "file_extension": ".py",
   "mimetype": "text/x-python",
   "name": "python",
   "nbconvert_exporter": "python",
   "pygments_lexer": "ipython3",
   "version": "3.8.8"
  }
 },
 "nbformat": 4,
 "nbformat_minor": 5
}

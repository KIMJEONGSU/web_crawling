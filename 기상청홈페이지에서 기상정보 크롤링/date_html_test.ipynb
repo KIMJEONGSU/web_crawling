{
 "cells": [
  {
   "cell_type": "code",
   "execution_count": 26,
   "id": "13e3d5e3",
   "metadata": {},
   "outputs": [
    {
     "data": {
      "text/plain": [
       "<matplotlib.legend.Legend at 0x16b10faf6d0>"
      ]
     },
     "execution_count": 26,
     "metadata": {},
     "output_type": "execute_result"
    },
    {
     "data": {
      "image/png": "[encoded data removed]",
      "text/plain": [
       "<Figure size 864x288 with 1 Axes>"
      ]
     },
     "metadata": {
      "needs_background": "light"
     },
     "output_type": "display_data"
    }
   ],
   "source": [
    "import requests                  # 웹 페이지의 HTML을 가져오는 모듈\n",
    "from bs4 import BeautifulSoup    # HTML을 파싱하는 모듈\n",
    " \n",
    "# 웹 페이지를 가져온 뒤 BeautifulSoup 객체로 만듦\n",
    "response = requests.get('https://www.weather.go.kr/w/obs-climate/land/city-obs.do?auto_man=m&stn=0&dtm=&type=t99&reg=100&tm=2022.07.25.20%3A00')\n",
    "soup = BeautifulSoup(response.content, 'html.parser')\n",
    " \n",
    "table = soup.find('table', { 'class': \"table-col\" })  \n",
    "\n",
    "data = []                           \n",
    "for tr in table.find_all('tr'):      \n",
    "    tds = list(tr.find_all('td'))   \n",
    "                                    \n",
    "    for td in tds:                 \n",
    "        if td.find('a'):           \n",
    "            point = td.find('a').text  \n",
    "            temperature = tds[5].text    \n",
    "            humidity = tds[9].text      \n",
    "            data.append([point, temperature, humidity])    \n",
    " \n",
    "data  \n",
    "\n",
    "with open('weather.csv','w')as file:\n",
    "    file.write('point,temperature,humidity\\n')\n",
    "    for i in data:\n",
    "        file.write('{0},{1},{2}\\n'.format(i[0], i[1], i[2]))\n",
    "        \n",
    "        \n",
    "# %matplotlib inline을 설정하면 matplotlib.pyplot의 show 함수를 호출하지 않아도\n",
    "# 주피터 노트북 안에서 그래프가 표시됨        \n",
    "%matplotlib inline       \n",
    "import pandas as pd                # 데이터를 저장하고 처리하는 패키지\n",
    "import matplotlib as mpl           # 그래프를 그리는 패키지\n",
    "import matplotlib.pyplot as plt    # 그래프를 그리는 패키지\n",
    " \n",
    "# csv 파일을 읽어서 DataFrame 객체로 만듦. 인덱스 컬럼은 point로 설정\n",
    "df = pd.read_csv('weather.csv', index_col='point',encoding='euc-kr')\n",
    "df  \n",
    "\n",
    "\n",
    "#특별시와 광역시만 모아서 DataFrame 객체로 만들기\n",
    "city_df = df.loc[['서울', '인천', '대전', '대구', '광주', '부산', '울산']]\n",
    "city_df\n",
    "\n",
    "\n",
    "# Windows 한글 폰트 설정\n",
    "font_name = mpl.font_manager.FontProperties(fname='C:/Windows/Fonts/malgun.ttf').get_name()\n",
    "mpl.rc('font', family=font_name)\n",
    " \n",
    "# 차트 종류, 제목, 차트 크기, 범례, 폰트 크기 설정\n",
    "ax = city_df.plot(kind='bar', title='날씨', figsize=(12, 4), legend=True, fontsize=12)\n",
    "ax.set_xlabel('도시', fontsize=12)          # x축 정보 표시\n",
    "ax.set_ylabel('기온/습도', fontsize=12,rotation=360)     # y축 정보 표시\n",
    "ax.legend(['기온', '습도'], fontsize=12)    # 범례 지정\n"
   ]
  }
 ],
 "metadata": {
  "kernelspec": {
   "display_name": "Python 3",
   "language": "python",
   "name": "python3"
  },
  "language_info": {
   "codemirror_mode": {
    "name": "ipython",
    "version": 3
   },
   "file_extension": ".py",
   "mimetype": "text/x-python",
   "name": "python",
   "nbconvert_exporter": "python",
   "pygments_lexer": "ipython3",
   "version": "3.8.8"
  }
 },
 "nbformat": 4,
 "nbformat_minor": 5
}
